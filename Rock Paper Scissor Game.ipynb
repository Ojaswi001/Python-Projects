{
 "cells": [
  {
   "cell_type": "markdown",
   "metadata": {},
   "source": [
    "## Rock Paper Scissor Game"
   ]
  },
  {
   "cell_type": "code",
   "execution_count": null,
   "metadata": {},
   "outputs": [
    {
     "name": "stdout",
     "output_type": "stream",
     "text": [
      "Enter your move: Rock\n",
      "You win!\n"
     ]
    }
   ],
   "source": [
    "import random\n",
    "\n",
    "c_moves = [\"Rock\", \"Paper\", \"Scissor\"]\n",
    "\n",
    "computer = c_moves[random.randint(0,2)]\n",
    "\n",
    "player = False\n",
    "\n",
    "while player == False:\n",
    "    player = input(\"Enter your move: \")\n",
    "    if computer == player:\n",
    "        print(\"Its a tie!\")\n",
    "    elif player == 'Rock':\n",
    "        if computer == 'Paper':\n",
    "            print(\"You loose, Computer wins!\")\n",
    "        else:\n",
    "            print(\"You win!\")\n",
    "    elif player == 'Paper':\n",
    "        if computer == 'Scissor':\n",
    "            print(\"You loose, Computer wins!\")\n",
    "        else:\n",
    "            print('You win!')\n",
    "    elif player == 'Scissor':\n",
    "        if computer == 'Rock':\n",
    "            print(\"You losse, Computer wins!\")\n",
    "        else:\n",
    "            print(\"You win\")\n",
    "    new_game = input(\"Do you want to play another round? (y/n) \")\n",
    "    if new_game == 'y':\n",
    "        player = False\n",
    "    else:\n",
    "        print(\"Thanks for playing!!!\")\n",
    "        break;\n",
    "            "
   ]
  },
  {
   "cell_type": "code",
   "execution_count": null,
   "metadata": {},
   "outputs": [],
   "source": []
  }
 ],
 "metadata": {
  "kernelspec": {
   "display_name": "Python 3",
   "language": "python",
   "name": "python3"
  },
  "language_info": {
   "codemirror_mode": {
    "name": "ipython",
    "version": 3
   },
   "file_extension": ".py",
   "mimetype": "text/x-python",
   "name": "python",
   "nbconvert_exporter": "python",
   "pygments_lexer": "ipython3",
   "version": "3.7.3"
  }
 },
 "nbformat": 4,
 "nbformat_minor": 2
}
