{
 "cells": [
  {
   "cell_type": "code",
   "execution_count": 2,
   "metadata": {},
   "outputs": [],
   "source": [
    "import random"
   ]
  },
  {
   "cell_type": "code",
   "execution_count": 5,
   "metadata": {},
   "outputs": [
    {
     "name": "stdout",
     "output_type": "stream",
     "text": [
      "Enter the number you guess between 0 to 10: 6\n",
      "The number you guessed is smaller\n",
      "Enter the number you guess between 0 to 10: 8\n",
      "The number you guessed is smaller\n",
      "Enter the number you guess between 0 to 10: 9\n",
      "You guessed it right!!\n"
     ]
    }
   ],
   "source": [
    "#You can try to guess untill you get the correct guess.\n",
    "\n",
    "check = random.randint(0, 10) # generates random integer numbers between range\n",
    "\n",
    "for x in range(check):\n",
    "    guess = int(input(\"Enter the number you guess between 0 to 10: \", ))\n",
    "    if guess == check:\n",
    "        print(\"You guessed it right!!\")\n",
    "        break;\n",
    "    elif guess >check:\n",
    "        print(\"The number you guessed is greater\")\n",
    "    elif guess < check:\n",
    "        print(\"The number you guessed is smaller\")\n",
    "    else:\n",
    "        print(\"Sorry!! try again\")\n",
    "    "
   ]
  },
  {
   "cell_type": "code",
   "execution_count": 6,
   "metadata": {},
   "outputs": [
    {
     "name": "stdout",
     "output_type": "stream",
     "text": [
      "Enter the number you guess between 0 to 10: 4\n",
      "Sorry!! Wrong guess\n"
     ]
    }
   ],
   "source": [
    "# You can do it just for once whether right or wrong without for loop\n",
    "\n",
    "check = random.randint(0, 10) # generates random integer numbers between range\n",
    "\n",
    "guess = int(input(\"Enter the number you guess between 0 to 10: \", ))\n",
    "if guess == check:\n",
    "    print(\"You guessed it right!!\")\n",
    "    \n",
    "else:\n",
    "    print(\"Sorry!! Wrong guess\")"
   ]
  }
 ],
 "metadata": {
  "kernelspec": {
   "display_name": "Python 3",
   "language": "python",
   "name": "python3"
  },
  "language_info": {
   "codemirror_mode": {
    "name": "ipython",
    "version": 3
   },
   "file_extension": ".py",
   "mimetype": "text/x-python",
   "name": "python",
   "nbconvert_exporter": "python",
   "pygments_lexer": "ipython3",
   "version": "3.7.3"
  }
 },
 "nbformat": 4,
 "nbformat_minor": 2
}
